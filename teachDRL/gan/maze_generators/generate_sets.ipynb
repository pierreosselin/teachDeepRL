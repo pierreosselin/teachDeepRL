{
 "cells": [
  {
   "cell_type": "code",
   "execution_count": 36,
   "id": "ca9b8cb4",
   "metadata": {},
   "outputs": [],
   "source": [
    "from aldousbroder import AldousBroderMazeGenerator\n",
    "from pacman import PacmanMazeGenerator\n",
    "import random\n",
    "import pickle"
   ]
  },
  {
   "cell_type": "code",
   "execution_count": 26,
   "id": "a18ae110",
   "metadata": {},
   "outputs": [],
   "source": [
    "def make_hole(arr):\n",
    "    arr[4:13, 4:13] = 1\n",
    "    return arr"
   ]
  },
  {
   "cell_type": "code",
   "execution_count": 27,
   "id": "ec3328a9",
   "metadata": {},
   "outputs": [],
   "source": [
    "t1 = AldousBroderMazeGenerator((17,17))\n",
    "t2 = PacmanMazeGenerator((17,17))"
   ]
  },
  {
   "cell_type": "code",
   "execution_count": 28,
   "id": "52ebc545",
   "metadata": {},
   "outputs": [],
   "source": [
    "list_aldous = [t1.generate_maze() for i in range(10)]\n",
    "list_pacman = [t2.generate_maze() for i in range(10)]\n",
    "list_middle = [make_hole(t1.generate_maze()) for i in range(10)]"
   ]
  },
  {
   "cell_type": "code",
   "execution_count": 29,
   "id": "537eda05",
   "metadata": {},
   "outputs": [],
   "source": [
    "list_final = list_aldous + list_pacman + list_middle\n",
    "random.shuffle(list_final)"
   ]
  },
  {
   "cell_type": "code",
   "execution_count": 37,
   "id": "78f75412",
   "metadata": {},
   "outputs": [],
   "source": [
    "with open('test_set_mix.pkl', 'wb') as handle:\n",
    "    pickle.dump(list_final, handle)"
   ]
  },
  {
   "cell_type": "code",
   "execution_count": 38,
   "id": "9ca35451",
   "metadata": {},
   "outputs": [],
   "source": [
    "with open('test_set_mix.pkl', 'rb') as handle:\n",
    "    b = pickle.load(handle)"
   ]
  },
  {
   "cell_type": "code",
   "execution_count": null,
   "id": "202f052f",
   "metadata": {},
   "outputs": [],
   "source": []
  }
 ],
 "metadata": {
  "kernelspec": {
   "display_name": "Python 3",
   "language": "python",
   "name": "python3"
  },
  "language_info": {
   "codemirror_mode": {
    "name": "ipython",
    "version": 3
   },
   "file_extension": ".py",
   "mimetype": "text/x-python",
   "name": "python",
   "nbconvert_exporter": "python",
   "pygments_lexer": "ipython3",
   "version": "3.8.10"
  }
 },
 "nbformat": 4,
 "nbformat_minor": 5
}
