{
 "cells": [
  {
   "cell_type": "code",
   "execution_count": 20,
   "id": "ca9b8cb4",
   "metadata": {},
   "outputs": [],
   "source": [
    "from aldousbroder import AldousBroderMazeGenerator\n",
    "from pacman import PacmanMazeGenerator\n",
    "import random\n",
    "import pickle\n",
    "import torch\n",
    "from torchvision.utils import save_image\n",
    "import numpy as np"
   ]
  },
  {
   "cell_type": "code",
   "execution_count": 2,
   "id": "a18ae110",
   "metadata": {},
   "outputs": [],
   "source": [
    "def make_hole(arr):\n",
    "    arr[4:13, 4:13] = 1\n",
    "    return arr"
   ]
  },
  {
   "cell_type": "code",
   "execution_count": 3,
   "id": "ec3328a9",
   "metadata": {},
   "outputs": [],
   "source": [
    "t1 = AldousBroderMazeGenerator((17,17))\n",
    "t2 = PacmanMazeGenerator((17,17))"
   ]
  },
  {
   "cell_type": "code",
   "execution_count": 28,
   "id": "52ebc545",
   "metadata": {},
   "outputs": [],
   "source": [
    "list_aldous = [t1.generate_maze() for i in range(10)]\n",
    "list_pacman = [t2.generate_maze() for i in range(10)]\n",
    "list_middle = [make_hole(t1.generate_maze()) for i in range(10)]"
   ]
  },
  {
   "cell_type": "code",
   "execution_count": 29,
   "id": "537eda05",
   "metadata": {},
   "outputs": [],
   "source": [
    "list_final = list_aldous + list_pacman + list_middle\n",
    "random.shuffle(list_final)"
   ]
  },
  {
   "cell_type": "code",
   "execution_count": 37,
   "id": "78f75412",
   "metadata": {},
   "outputs": [],
   "source": [
    "with open('test_set_mix.pkl', 'wb') as handle:\n",
    "    pickle.dump(list_final, handle)"
   ]
  },
  {
   "cell_type": "code",
   "execution_count": 21,
   "id": "9ca35451",
   "metadata": {},
   "outputs": [],
   "source": [
    "with open('test_set_mix.pkl', 'rb') as handle:\n",
    "    b = pickle.load(handle)"
   ]
  },
  {
   "cell_type": "code",
   "execution_count": 17,
   "id": "202f052f",
   "metadata": {},
   "outputs": [],
   "source": [
    "ex = make_hole(t1.generate_maze())"
   ]
  },
  {
   "cell_type": "code",
   "execution_count": 18,
   "id": "8829b55b",
   "metadata": {},
   "outputs": [],
   "source": [
    "save_image(torch.tensor(ex.astype('float')), \"./test2.png\", normalize=True)\n",
    "np.save(\"test.npy\", ex)"
   ]
  },
  {
   "cell_type": "code",
   "execution_count": 19,
   "id": "1201fdc7",
   "metadata": {},
   "outputs": [
    {
     "data": {
      "text/plain": [
       "tensor([[1., 1., 1., 0., 1., 1., 1., 1., 1., 1., 1., 0., 1., 1., 1., 0., 1.],\n",
       "        [1., 0., 0., 0., 1., 0., 0., 0., 0., 0., 1., 0., 1., 0., 1., 0., 1.],\n",
       "        [1., 0., 1., 1., 1., 0., 1., 1., 1., 0., 1., 0., 1., 0., 1., 0., 1.],\n",
       "        [1., 0., 1., 0., 0., 0., 1., 0., 1., 0., 1., 0., 1., 0., 1., 0., 1.],\n",
       "        [1., 1., 1., 1., 1., 1., 1., 1., 1., 1., 1., 1., 1., 0., 1., 1., 1.],\n",
       "        [0., 0., 0., 0., 1., 1., 1., 1., 1., 1., 1., 1., 1., 0., 0., 0., 1.],\n",
       "        [1., 1., 1., 1., 1., 1., 1., 1., 1., 1., 1., 1., 1., 1., 1., 0., 1.],\n",
       "        [1., 0., 0., 0., 1., 1., 1., 1., 1., 1., 1., 1., 1., 0., 1., 0., 0.],\n",
       "        [1., 1., 1., 0., 1., 1., 1., 1., 1., 1., 1., 1., 1., 0., 1., 1., 1.],\n",
       "        [0., 0., 1., 0., 1., 1., 1., 1., 1., 1., 1., 1., 1., 0., 0., 0., 1.],\n",
       "        [1., 1., 1., 0., 1., 1., 1., 1., 1., 1., 1., 1., 1., 1., 1., 0., 1.],\n",
       "        [1., 0., 0., 0., 1., 1., 1., 1., 1., 1., 1., 1., 1., 0., 1., 0., 1.],\n",
       "        [1., 1., 1., 0., 1., 1., 1., 1., 1., 1., 1., 1., 1., 1., 1., 0., 1.],\n",
       "        [0., 0., 1., 0., 0., 0., 1., 0., 0., 0., 0., 0., 1., 0., 0., 0., 1.],\n",
       "        [1., 0., 1., 1., 1., 1., 1., 0., 1., 1., 1., 1., 1., 0., 1., 1., 1.],\n",
       "        [1., 0., 0., 0., 0., 0., 0., 0., 1., 0., 0., 0., 0., 0., 1., 0., 0.],\n",
       "        [1., 1., 1., 1., 1., 1., 1., 1., 1., 1., 1., 1., 1., 1., 1., 1., 1.]],\n",
       "       dtype=torch.float64)"
      ]
     },
     "execution_count": 19,
     "metadata": {},
     "output_type": "execute_result"
    }
   ],
   "source": [
    "torch.tensor(ex.astype('float'))"
   ]
  },
  {
   "cell_type": "code",
   "execution_count": null,
   "id": "e27b0d52",
   "metadata": {},
   "outputs": [],
   "source": []
  }
 ],
 "metadata": {
  "kernelspec": {
   "display_name": "Python 3",
   "language": "python",
   "name": "python3"
  },
  "language_info": {
   "codemirror_mode": {
    "name": "ipython",
    "version": 3
   },
   "file_extension": ".py",
   "mimetype": "text/x-python",
   "name": "python",
   "nbconvert_exporter": "python",
   "pygments_lexer": "ipython3",
   "version": "3.6.13"
  }
 },
 "nbformat": 4,
 "nbformat_minor": 5
}
